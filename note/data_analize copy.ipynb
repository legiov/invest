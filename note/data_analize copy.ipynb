{
 "cells": [
  {
   "cell_type": "code",
   "execution_count": 22,
   "metadata": {},
   "outputs": [],
   "source": [
    "import requests\n",
    "from tinkoff.invest import Client, CandleInterval, PortfolioResponse, RequestError, HistoricCandle\n",
    "from tinkoff.invest.constants import INVEST_GRPC_API_SANDBOX, INVEST_GRPC_API\n",
    "from datetime import datetime, timedelta, date\n",
    "import pandas as pd\n",
    "import matplotlib.pyplot as plt\n",
    "from ta import trend"
   ]
  },
  {
   "cell_type": "code",
   "execution_count": 6,
   "metadata": {},
   "outputs": [],
   "source": [
    "\n",
    "\n",
    "SANDBOX_TOKEN = 't.s9IMPYkUcfM_hPRgYxaDwWDp_-lt46z-Uf89QtIjPyuCP0apNrBGUdL-Kjx4OiARatXVz4_y2aSdx0pYlzy1Hg'\n",
    "READ_ONLY_TOKEN = 't.CTyNe4_y1XawpuclwUFIEc5Uw9wERdMIbD_njBdslJH-OQGKj9eyqDae1lTSy-eHsY0wNX3OKTnBgj8DHaXoRA'\n",
    "API_HOST_SANDBOX = 'https://sandbox-invest-public-api.tinkoff.ru:443'\n",
    "GET_SHARES = 'GetShares'\n",
    "poly_figi = 'BBG004PYF2N3'\n",
    "\n",
    "ACCOUNT_ID = '2032517688'"
   ]
  },
  {
   "cell_type": "code",
   "execution_count": 7,
   "metadata": {},
   "outputs": [
    {
     "name": "stdout",
     "output_type": "stream",
     "text": [
      "GetAccountsResponse(accounts=[Account(id='2032517688', type=<AccountType.ACCOUNT_TYPE_TINKOFF: 1>, name='Брокерский счёт', status=<AccountStatus.ACCOUNT_STATUS_OPEN: 2>, opened_date=datetime.datetime(2020, 6, 19, 0, 0, tzinfo=datetime.timezone.utc), closed_date=datetime.datetime(1970, 1, 1, 0, 0, tzinfo=datetime.timezone.utc), access_level=<AccessLevel.ACCOUNT_ACCESS_LEVEL_READ_ONLY: 2>), Account(id='2195611054', type=<AccountType.ACCOUNT_TYPE_INVEST_BOX: 3>, name='Инвесткопилка', status=<AccountStatus.ACCOUNT_STATUS_OPEN: 2>, opened_date=datetime.datetime(2022, 8, 22, 0, 0, tzinfo=datetime.timezone.utc), closed_date=datetime.datetime(1970, 1, 1, 0, 0, tzinfo=datetime.timezone.utc), access_level=<AccessLevel.ACCOUNT_ACCESS_LEVEL_READ_ONLY: 2>)])\n"
     ]
    }
   ],
   "source": [
    "with Client(READ_ONLY_TOKEN, target=INVEST_GRPC_API) as client:\n",
    "    # r = client.market_data.get_candles(\n",
    "    #     figi=poly_figi,\n",
    "    #     from_= datetime(2022, 1, 1),\n",
    "    #     to=datetime.now(),\n",
    "    #     interval=CandleInterval.CANDLE_INTERVAL_DAY\n",
    "    # )\n",
    "    r : PortfolioResponse = client.users.get_accounts()\n",
    "    print(r)\n"
   ]
  },
  {
   "cell_type": "code",
   "execution_count": 8,
   "metadata": {},
   "outputs": [],
   "source": [
    "def cast_money(v):\n",
    "    \"\"\"_summary_\n",
    "\n",
    "    Args:\n",
    "        v (MoneyValue): Данные из апи\n",
    "    \"\"\"\n",
    "    return v.units + v.nano / 1e9"
   ]
  },
  {
   "cell_type": "code",
   "execution_count": 9,
   "metadata": {},
   "outputs": [
    {
     "name": "stdout",
     "output_type": "stream",
     "text": [
      "                                 0\n",
      "total_amount_shares      659925.90\n",
      "total_amount_etf           4211.10\n",
      "total_amount_currencies     652.81\n"
     ]
    }
   ],
   "source": [
    "try:\n",
    "    with Client(READ_ONLY_TOKEN, target=INVEST_GRPC_API) as client:\n",
    "        r : PortfolioResponse = client.operations.get_portfolio(account_id=ACCOUNT_ID)\n",
    "        # print(r)\n",
    "        \n",
    "        keys = ['total_amount_shares', 'total_amount_etf', 'total_amount_currencies']\n",
    "        df = pd.DataFrame([cast_money(getattr(r, k)) for k in keys], index=keys)\n",
    "        print(df)\n",
    "except RequestError as e:\n",
    "    print(str(e))\n",
    "        "
   ]
  },
  {
   "cell_type": "code",
   "execution_count": 10,
   "metadata": {},
   "outputs": [],
   "source": [
    "def create_df_candles(candles : [HistoricCandle]):\n",
    "    df = pd.DataFrame([{\n",
    "        'time'      : c.time,\n",
    "        'volume'    : c.volume,\n",
    "        'open'      : cast_money(c.open),\n",
    "        'close'     : cast_money(c.close),\n",
    "        'high'      : cast_money(c.high),\n",
    "        'low'       : cast_money(c.low)\n",
    "    } for c in candles])\n",
    "    \n",
    "    return df"
   ]
  },
  {
   "cell_type": "code",
   "execution_count": 29,
   "metadata": {},
   "outputs": [],
   "source": [
    "df = pd.DataFrame()\n",
    "try:\n",
    "    with Client(READ_ONLY_TOKEN, target=INVEST_GRPC_API) as client:\n",
    "        for year in range(2016, 2023):\n",
    "            r = client.market_data.get_candles(\n",
    "                figi=poly_figi,\n",
    "                from_=datetime(year, 1, 1),\n",
    "                to=datetime(year, 12, 31),\n",
    "                interval=CandleInterval.CANDLE_INTERVAL_DAY\n",
    "            )\n",
    "            df_cur = create_df_candles(r.candles)\n",
    "            if df.empty:\n",
    "                df = df_cur\n",
    "            else:\n",
    "                df = pd.concat([df, df_cur], ignore_index=True)\n",
    "            #df['ema'] = trend.ema_indicator(close=df['close'], window=9)\n",
    "        \n",
    "except RequestError as e:\n",
    "    print(str(e))"
   ]
  },
  {
   "cell_type": "code",
   "execution_count": 30,
   "metadata": {},
   "outputs": [
    {
     "data": {
      "text/html": [
       "<div>\n",
       "<style scoped>\n",
       "    .dataframe tbody tr th:only-of-type {\n",
       "        vertical-align: middle;\n",
       "    }\n",
       "\n",
       "    .dataframe tbody tr th {\n",
       "        vertical-align: top;\n",
       "    }\n",
       "\n",
       "    .dataframe thead th {\n",
       "        text-align: right;\n",
       "    }\n",
       "</style>\n",
       "<table border=\"1\" class=\"dataframe\">\n",
       "  <thead>\n",
       "    <tr style=\"text-align: right;\">\n",
       "      <th></th>\n",
       "      <th>time</th>\n",
       "      <th>volume</th>\n",
       "      <th>open</th>\n",
       "      <th>close</th>\n",
       "      <th>high</th>\n",
       "      <th>low</th>\n",
       "    </tr>\n",
       "  </thead>\n",
       "  <tbody>\n",
       "    <tr>\n",
       "      <th>0</th>\n",
       "      <td>2015-12-31 07:00:00+00:00</td>\n",
       "      <td>13715</td>\n",
       "      <td>626.0</td>\n",
       "      <td>622.0</td>\n",
       "      <td>636.0</td>\n",
       "      <td>602.0</td>\n",
       "    </tr>\n",
       "    <tr>\n",
       "      <th>1</th>\n",
       "      <td>2016-01-01 07:00:00+00:00</td>\n",
       "      <td>13715</td>\n",
       "      <td>626.0</td>\n",
       "      <td>622.0</td>\n",
       "      <td>636.0</td>\n",
       "      <td>602.0</td>\n",
       "    </tr>\n",
       "    <tr>\n",
       "      <th>2</th>\n",
       "      <td>2016-01-04 07:00:00+00:00</td>\n",
       "      <td>1875</td>\n",
       "      <td>612.5</td>\n",
       "      <td>613.5</td>\n",
       "      <td>626.5</td>\n",
       "      <td>607.0</td>\n",
       "    </tr>\n",
       "    <tr>\n",
       "      <th>3</th>\n",
       "      <td>2016-01-05 07:00:00+00:00</td>\n",
       "      <td>4779</td>\n",
       "      <td>622.0</td>\n",
       "      <td>621.0</td>\n",
       "      <td>630.0</td>\n",
       "      <td>614.0</td>\n",
       "    </tr>\n",
       "    <tr>\n",
       "      <th>4</th>\n",
       "      <td>2016-01-06 07:00:00+00:00</td>\n",
       "      <td>6711</td>\n",
       "      <td>629.0</td>\n",
       "      <td>625.0</td>\n",
       "      <td>629.0</td>\n",
       "      <td>610.0</td>\n",
       "    </tr>\n",
       "    <tr>\n",
       "      <th>...</th>\n",
       "      <td>...</td>\n",
       "      <td>...</td>\n",
       "      <td>...</td>\n",
       "      <td>...</td>\n",
       "      <td>...</td>\n",
       "      <td>...</td>\n",
       "    </tr>\n",
       "    <tr>\n",
       "      <th>1795</th>\n",
       "      <td>2022-12-13 07:00:00+00:00</td>\n",
       "      <td>1882293</td>\n",
       "      <td>369.0</td>\n",
       "      <td>378.6</td>\n",
       "      <td>381.6</td>\n",
       "      <td>367.5</td>\n",
       "    </tr>\n",
       "    <tr>\n",
       "      <th>1796</th>\n",
       "      <td>2022-12-14 07:00:00+00:00</td>\n",
       "      <td>1723880</td>\n",
       "      <td>379.7</td>\n",
       "      <td>375.4</td>\n",
       "      <td>382.0</td>\n",
       "      <td>369.0</td>\n",
       "    </tr>\n",
       "    <tr>\n",
       "      <th>1797</th>\n",
       "      <td>2022-12-15 07:00:00+00:00</td>\n",
       "      <td>1716480</td>\n",
       "      <td>373.8</td>\n",
       "      <td>361.1</td>\n",
       "      <td>374.0</td>\n",
       "      <td>357.5</td>\n",
       "    </tr>\n",
       "    <tr>\n",
       "      <th>1798</th>\n",
       "      <td>2022-12-16 07:00:00+00:00</td>\n",
       "      <td>1433459</td>\n",
       "      <td>360.0</td>\n",
       "      <td>358.7</td>\n",
       "      <td>364.9</td>\n",
       "      <td>351.0</td>\n",
       "    </tr>\n",
       "    <tr>\n",
       "      <th>1799</th>\n",
       "      <td>2022-12-17 07:00:00+00:00</td>\n",
       "      <td>7921</td>\n",
       "      <td>359.9</td>\n",
       "      <td>359.3</td>\n",
       "      <td>360.2</td>\n",
       "      <td>356.0</td>\n",
       "    </tr>\n",
       "  </tbody>\n",
       "</table>\n",
       "<p>1800 rows × 6 columns</p>\n",
       "</div>"
      ],
      "text/plain": [
       "                          time   volume   open  close   high    low\n",
       "0    2015-12-31 07:00:00+00:00    13715  626.0  622.0  636.0  602.0\n",
       "1    2016-01-01 07:00:00+00:00    13715  626.0  622.0  636.0  602.0\n",
       "2    2016-01-04 07:00:00+00:00     1875  612.5  613.5  626.5  607.0\n",
       "3    2016-01-05 07:00:00+00:00     4779  622.0  621.0  630.0  614.0\n",
       "4    2016-01-06 07:00:00+00:00     6711  629.0  625.0  629.0  610.0\n",
       "...                        ...      ...    ...    ...    ...    ...\n",
       "1795 2022-12-13 07:00:00+00:00  1882293  369.0  378.6  381.6  367.5\n",
       "1796 2022-12-14 07:00:00+00:00  1723880  379.7  375.4  382.0  369.0\n",
       "1797 2022-12-15 07:00:00+00:00  1716480  373.8  361.1  374.0  357.5\n",
       "1798 2022-12-16 07:00:00+00:00  1433459  360.0  358.7  364.9  351.0\n",
       "1799 2022-12-17 07:00:00+00:00     7921  359.9  359.3  360.2  356.0\n",
       "\n",
       "[1800 rows x 6 columns]"
      ]
     },
     "execution_count": 30,
     "metadata": {},
     "output_type": "execute_result"
    }
   ],
   "source": [
    "df"
   ]
  },
  {
   "cell_type": "code",
   "execution_count": 39,
   "metadata": {},
   "outputs": [],
   "source": [
    "df_1 = df.copy()\n",
    "df_1['ema'] = trend.ema_indicator(close=df['close'], window=100)"
   ]
  },
  {
   "cell_type": "code",
   "execution_count": 40,
   "metadata": {},
   "outputs": [
    {
     "data": {
      "image/png": "[encoded data removed]",
      "text/plain": [
       "<Figure size 640x480 with 1 Axes>"
      ]
     },
     "metadata": {},
     "output_type": "display_data"
    }
   ],
   "source": [
    "ax = df_1.plot(x='time', y='close')\n",
    "df_1.plot(ax=ax, x='time', y='ema')\n",
    "plt.show()"
   ]
  },
  {
   "cell_type": "code",
   "execution_count": 48,
   "metadata": {},
   "outputs": [],
   "source": [
    "df.to_csv('../data/poly_data.csv')"
   ]
  }
 ],
 "metadata": {
  "kernelspec": {
   "display_name": "Python 3.8.13 ('invest': venv)",
   "language": "python",
   "name": "python3"
  },
  "language_info": {
   "codemirror_mode": {
    "name": "ipython",
    "version": 3
   },
   "file_extension": ".py",
   "mimetype": "text/x-python",
   "name": "python",
   "nbconvert_exporter": "python",
   "pygments_lexer": "ipython3",
   "version": "3.8.13 (default, Mar 28 2022, 11:38:47) \n[GCC 7.5.0]"
  },
  "orig_nbformat": 4,
  "vscode": {
   "interpreter": {
    "hash": "7ae9283d5cb55fdba7956b58fb4f1169ac8ee8213e78e2af9d2d190fa81b6599"
   }
  }
 },
 "nbformat": 4,
 "nbformat_minor": 2
}
